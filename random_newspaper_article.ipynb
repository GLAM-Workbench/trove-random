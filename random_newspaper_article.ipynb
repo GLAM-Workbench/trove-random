{
 "cells": [
  {
   "cell_type": "markdown",
   "metadata": {},
   "source": [
    "# Get an random newspaper article from Trove\n",
    "\n",
    "Changes to the Trove API mean that the techniques I've previously used to select resources at random [will no longer work](https://updates.timsherratt.org/2019/10/09/creators-and-users.html). This notebook provides one alternative.\n",
    "\n",
    "I wanted something that would work efficiently, but would also expose as much of the content as possible. Applying multiple facets together with a randomly-generated query seems to do a good job of getting the result set below 100 (the maximum available from a single API call). This should mean that *most* of the newspaper articles are reachable, but it's a bit hard to quantify.\n",
    "\n",
    "Thanks to Mitchell Harrop for [suggesting I could use randomly selected stopwords](https://twitter.com/mharropesquire/status/1182175315860213760) as queries. I've supplemented the stopwords with letters and digits, and together they seem to do a good job of applying an initial filter and mixing up the relevance ranking.\n",
    "\n",
    "I've added some options that allow you to specify a value for `query`, `newspaper_id`, `category`, and `illustrated`, but note that some combinations of these parameters might yield no results."
   ]
  },
  {
   "cell_type": "code",
   "execution_count": 15,
   "metadata": {},
   "outputs": [],
   "source": [
    "import random\n",
    "import requests\n",
    "from requests.adapters import HTTPAdapter\n",
    "from requests.packages.urllib3.util.retry import Retry\n",
    "import json\n",
    "\n",
    "s = requests.Session()\n",
    "retries = Retry(total=5, backoff_factor=1, status_forcelist=[ 502, 503, 504 ])\n",
    "s.mount('https://', HTTPAdapter(max_retries=retries))\n",
    "s.mount('http://', HTTPAdapter(max_retries=retries))\n",
    "\n",
    "with open('stopwords.json', 'r') as json_file:\n",
    "    STOPWORDS = json.load(json_file)"
   ]
  },
  {
   "cell_type": "code",
   "execution_count": 16,
   "metadata": {},
   "outputs": [],
   "source": [
    "API_KEY = 'YOUR API KEY'\n",
    "API_URL = 'http://api.trove.nla.gov.au/v2/result'"
   ]
  },
  {
   "cell_type": "code",
   "execution_count": 24,
   "metadata": {},
   "outputs": [],
   "source": [
    "def get_random_facet_value(params, facet):\n",
    "    '''\n",
    "    Get values for the supplied facet and choose one at random.\n",
    "    '''\n",
    "    these_params = params.copy()\n",
    "    these_params['facet'] = facet\n",
    "    response = s.get(API_URL, params=these_params)\n",
    "    data = response.json()\n",
    "    try:\n",
    "        values = [t['search'] for t in data['response']['zone'][0]['facets']['facet']['term']]\n",
    "    except TypeError:\n",
    "        return None\n",
    "    return random.choice(values)\n",
    "\n",
    "\n",
    "def get_random_article(query=None, newspaper_id=None, category=None, illustrated=None, tag=None):\n",
    "    total = 0\n",
    "    tries = 0\n",
    "    params = {\n",
    "        'zone': 'newspaper',\n",
    "        'encoding': 'json',\n",
    "        'n': '0',\n",
    "        # Uncomment these if you need more than the basic data\n",
    "        #'reclevel': 'full',\n",
    "        #'include': 'articleText',\n",
    "        'key': API_KEY\n",
    "    }\n",
    "    while total == 0 and tries <= 10:\n",
    "        if query:\n",
    "            params['q'] = query\n",
    "        else:\n",
    "            random_word = random.choice(STOPWORDS)\n",
    "            params['q'] = f'\"{random_word}\"'\n",
    "        if tag:\n",
    "            params['l-publictag'] = tag\n",
    "        if newspaper_id:\n",
    "            params['l-title'] = newspaper_id\n",
    "        else:\n",
    "            params['l-title'] = get_random_facet_value(params, 'title')\n",
    "        if category:\n",
    "            params['l-category'] = category\n",
    "        else:\n",
    "            params['l-category'] = get_random_facet_value(params, 'category')\n",
    "        if illustrated:\n",
    "            params['l-illustrated'] = illustrated\n",
    "        else:\n",
    "            params['l-illustrated'] = get_random_facet_value(params, 'illustrated')\n",
    "        # Select a word length at random\n",
    "        params['l-word'] = get_random_facet_value(params, 'word')\n",
    "        # Get decades\n",
    "        decade = get_random_facet_value(params, 'decade')\n",
    "        # Get years\n",
    "        params['l-decade'] = decade\n",
    "        year = get_random_facet_value(params, 'year')\n",
    "        # Get months\n",
    "        params['l-year'] = year\n",
    "        month = get_random_facet_value(params, 'month')\n",
    "        # Get articles for month\n",
    "        params['l-month'] = month\n",
    "        params['n'] = 100\n",
    "        response = s.get(API_URL, params=params)\n",
    "        data = response.json()\n",
    "        total = int(data['response']['zone'][0]['records']['total'])\n",
    "        #print(total)\n",
    "        #print(response.url)\n",
    "        tries += 1\n",
    "    if total > 0:\n",
    "        article = random.choice(data['response']['zone'][0]['records']['article'])\n",
    "        return article"
   ]
  },
  {
   "cell_type": "code",
   "execution_count": null,
   "metadata": {},
   "outputs": [],
   "source": []
  },
  {
   "cell_type": "markdown",
   "metadata": {},
   "source": [
    "## Get any old article..."
   ]
  },
  {
   "cell_type": "code",
   "execution_count": 18,
   "metadata": {},
   "outputs": [
    {
     "data": {
      "text/plain": [
       "{'id': '84397893',\n",
       " 'url': '/newspaper/84397893',\n",
       " 'heading': 'Advertising',\n",
       " 'category': 'Advertising',\n",
       " 'title': {'id': '336',\n",
       "  'value': 'Queensland Figaro (Brisbane, Qld. : 1901 - 1936)'},\n",
       " 'date': '1914-02-12',\n",
       " 'page': 17,\n",
       " 'pageSequence': 17,\n",
       " 'relevance': {'score': '5.8201594', 'value': 'very relevant'},\n",
       " 'troveUrl': 'https://trove.nla.gov.au/ndp/del/article/84397893?searchTerm=%22hadn%27t%22'}"
      ]
     },
     "execution_count": 18,
     "metadata": {},
     "output_type": "execute_result"
    }
   ],
   "source": [
    "get_random_article()"
   ]
  },
  {
   "cell_type": "markdown",
   "metadata": {},
   "source": [
    "## Get a random article about pademelons"
   ]
  },
  {
   "cell_type": "code",
   "execution_count": 19,
   "metadata": {},
   "outputs": [
    {
     "data": {
      "text/plain": [
       "{'id': '93274347',\n",
       " 'url': '/newspaper/93274347',\n",
       " 'heading': 'ACROSS THE ALPS TO THE BUCHAN CAVES. No. 2. (Continued.)',\n",
       " 'category': 'Article',\n",
       " 'title': {'id': '241', 'value': 'The Colac Herald (Vic. : 1875 - 1918)'},\n",
       " 'date': '1908-02-26',\n",
       " 'page': 3,\n",
       " 'pageSequence': 3,\n",
       " 'relevance': {'score': '15.130503', 'value': 'very relevant'},\n",
       " 'snippet': \"Now we have the telephone wire to keep as to the right track, for Sunnyside is connected by 'phone with Omeo. For the previous 40 miles we\",\n",
       " 'troveUrl': 'https://trove.nla.gov.au/ndp/del/article/93274347?searchTerm=pademelon'}"
      ]
     },
     "execution_count": 19,
     "metadata": {},
     "output_type": "execute_result"
    }
   ],
   "source": [
    "get_random_article(query='pademelon')"
   ]
  },
  {
   "cell_type": "markdown",
   "metadata": {},
   "source": [
    "## Get a random article from the _Sydney Morning Herald_"
   ]
  },
  {
   "cell_type": "code",
   "execution_count": 20,
   "metadata": {},
   "outputs": [
    {
     "data": {
      "text/plain": [
       "{'id': '13666434',\n",
       " 'url': '/newspaper/13666434',\n",
       " 'heading': 'THE COURSE.',\n",
       " 'category': 'Article',\n",
       " 'title': {'id': '35',\n",
       "  'value': 'The Sydney Morning Herald (NSW : 1842 - 1954)'},\n",
       " 'date': '1887-11-28',\n",
       " 'page': 3,\n",
       " 'pageSequence': 3,\n",
       " 'relevance': {'score': '0.83701843', 'value': 'likely to be relevant'},\n",
       " 'snippet': 'The Nepean championship course, which will be found, illustrated above, is undoubtedly one of the finest rowing courses in the world, and this assertion is supported both by Beach and Hanlan, each of whom has, given his',\n",
       " 'troveUrl': 'https://trove.nla.gov.au/ndp/del/article/13666434?searchTerm=%22most%22'}"
      ]
     },
     "execution_count": 20,
     "metadata": {},
     "output_type": "execute_result"
    }
   ],
   "source": [
    "get_random_article(newspaper_id='35', category='Article')"
   ]
  },
  {
   "cell_type": "markdown",
   "metadata": {},
   "source": [
    "## Get a random illustrated article"
   ]
  },
  {
   "cell_type": "code",
   "execution_count": 21,
   "metadata": {},
   "outputs": [
    {
     "data": {
      "text/plain": [
       "{'id': '226228030',\n",
       " 'url': '/newspaper/226228030',\n",
       " 'heading': 'SHEEP MERINOS',\n",
       " 'category': 'Detailed lists, results, guides',\n",
       " 'title': {'id': '664',\n",
       "  'value': 'The Gundagai Independent (NSW : 1928 - 1939)'},\n",
       " 'date': '1936-03-19',\n",
       " 'page': 7,\n",
       " 'pageSequence': 7,\n",
       " 'relevance': {'score': '0.644695', 'value': 'likely to be relevant'},\n",
       " 'troveUrl': 'https://trove.nla.gov.au/ndp/del/article/226228030?searchTerm=%223%22'}"
      ]
     },
     "execution_count": 21,
     "metadata": {},
     "output_type": "execute_result"
    }
   ],
   "source": [
    "get_random_article(illustrated='true')"
   ]
  },
  {
   "cell_type": "markdown",
   "metadata": {},
   "source": [
    "## Get a random illustrated advertisement from the _Australian Womens Weekly_"
   ]
  },
  {
   "cell_type": "code",
   "execution_count": 22,
   "metadata": {},
   "outputs": [
    {
     "data": {
      "text/plain": [
       "{'id': '46242638',\n",
       " 'url': '/newspaper/46242638',\n",
       " 'heading': 'Advertising',\n",
       " 'category': 'Advertising',\n",
       " 'title': {'id': '112',\n",
       "  'value': \"The Australian Women's Weekly (1933 - 1982)\"},\n",
       " 'date': '1974-07-24',\n",
       " 'page': 78,\n",
       " 'pageSequence': 78,\n",
       " 'relevance': {'score': '0.19900703', 'value': 'may have relevance'},\n",
       " 'troveUrl': 'https://trove.nla.gov.au/ndp/del/article/46242638?searchTerm=%22same%22'}"
      ]
     },
     "execution_count": 22,
     "metadata": {},
     "output_type": "execute_result"
    }
   ],
   "source": [
    "get_random_article(newspaper_id='112', illustrated='true', category='Advertising')"
   ]
  },
  {
   "cell_type": "markdown",
   "metadata": {},
   "source": [
    "## Get a random article tagged 'poem'"
   ]
  },
  {
   "cell_type": "code",
   "execution_count": 26,
   "metadata": {},
   "outputs": [
    {
     "data": {
      "text/plain": [
       "{'id': '69569812',\n",
       " 'url': '/newspaper/69569812',\n",
       " 'heading': 'THE FLEATOWN STEEPLECHASE.',\n",
       " 'category': 'Article',\n",
       " 'title': {'id': '204',\n",
       "  'value': 'Wodonga and Towong Sentinel (Vic. : 1885 - 1954)'},\n",
       " 'date': '1902-04-25',\n",
       " 'page': 4,\n",
       " 'pageSequence': 4,\n",
       " 'relevance': {'score': '2.2554219', 'value': 'likely to be relevant'},\n",
       " 'snippet': \"Too much about Kanaka Bills, too much about the Chow— A head line for Matilda, Dan, Murphy's brindle cow!\",\n",
       " 'troveUrl': 'https://trove.nla.gov.au/ndp/del/article/69569812?searchTerm=%22you%22'}"
      ]
     },
     "execution_count": 26,
     "metadata": {},
     "output_type": "execute_result"
    }
   ],
   "source": [
    "get_random_article(tag='poem')"
   ]
  },
  {
   "cell_type": "markdown",
   "metadata": {},
   "source": [
    "## Speed test"
   ]
  },
  {
   "cell_type": "code",
   "execution_count": 23,
   "metadata": {},
   "outputs": [
    {
     "name": "stdout",
     "output_type": "stream",
     "text": [
      "1.67 s ± 346 ms per loop (mean ± std. dev. of 7 runs, 1 loop each)\n"
     ]
    }
   ],
   "source": [
    "%%timeit\n",
    "get_random_article()"
   ]
  },
  {
   "cell_type": "code",
   "execution_count": null,
   "metadata": {},
   "outputs": [],
   "source": []
  }
 ],
 "metadata": {
  "kernelspec": {
   "display_name": "Python 3",
   "language": "python",
   "name": "python3"
  },
  "language_info": {
   "codemirror_mode": {
    "name": "ipython",
    "version": 3
   },
   "file_extension": ".py",
   "mimetype": "text/x-python",
   "name": "python",
   "nbconvert_exporter": "python",
   "pygments_lexer": "ipython3",
   "version": "3.7.3"
  }
 },
 "nbformat": 4,
 "nbformat_minor": 4
}
