{
 "cells": [
  {
   "cell_type": "markdown",
   "metadata": {},
   "source": [
    "# Get an random newspaper article from Trove\n",
    "\n",
    "Changes to the Trove API mean that the techniques I've previously used to select resources at random [will no longer work](https://updates.timsherratt.org/2019/10/09/creators-and-users.html). This notebook provides one alternative.\n",
    "\n",
    "I wanted something that would work efficiently, but would also expose as much of the content as possible. Applying multiple facets together with a randomly-generated query seems to do a good job of getting the result set below 100 (the maximum available from a single API call). This should mean that *most* of the newspaper articles are reachable, but it's a bit hard to quantify.\n",
    "\n",
    "Thanks to Mitchell Harrop for [suggesting I could use randomly selected stopwords](https://twitter.com/mharropesquire/status/1182175315860213760) as queries. I've supplemented the stopwords with letters and digits, and together they seem to do a good job of applying an initial filter and mixing up the relevance ranking.\n",
    "\n",
    "I've added some options that allow you to specify a value for `query`, `newspaper_id`, `category`, and `illustrated`, but note that some combinations of these parameters might yield no results."
   ]
  },
  {
   "cell_type": "code",
   "execution_count": 1,
   "metadata": {},
   "outputs": [],
   "source": [
    "import random\n",
    "import requests\n",
    "from requests.adapters import HTTPAdapter\n",
    "from requests.packages.urllib3.util.retry import Retry\n",
    "import json\n",
    "\n",
    "s = requests.Session()\n",
    "retries = Retry(total=5, backoff_factor=1, status_forcelist=[ 502, 503, 504 ])\n",
    "s.mount('https://', HTTPAdapter(max_retries=retries))\n",
    "s.mount('http://', HTTPAdapter(max_retries=retries))\n",
    "\n",
    "with open('stopwords.json', 'r') as json_file:\n",
    "    STOPWORDS = json.load(json_file)"
   ]
  },
  {
   "cell_type": "code",
   "execution_count": 11,
   "metadata": {},
   "outputs": [],
   "source": [
    "API_KEY = 'YOUR API KEY'\n",
    "API_URL = 'http://api.trove.nla.gov.au/v2/result'"
   ]
  },
  {
   "cell_type": "code",
   "execution_count": 12,
   "metadata": {},
   "outputs": [],
   "source": [
    "def get_random_facet_value(params, facet):\n",
    "    '''\n",
    "    Get values for the supplied facet and choose one at random.\n",
    "    '''\n",
    "    these_params = params.copy()\n",
    "    these_params['facet'] = facet\n",
    "    response = s.get(API_URL, params=these_params)\n",
    "    data = response.json()\n",
    "    try:\n",
    "        values = [t['search'] for t in data['response']['zone'][0]['facets']['facet']['term']]\n",
    "    except TypeError:\n",
    "        return None\n",
    "    return random.choice(values)\n",
    "\n",
    "\n",
    "def get_random_article(query=None, newspaper_id=None, category=None, illustrated=None):\n",
    "    total = 0\n",
    "    tries = 0\n",
    "    params = {\n",
    "        'zone': 'newspaper',\n",
    "        'encoding': 'json',\n",
    "        'n': '0',\n",
    "        # Uncomment these if you need more than the basic data\n",
    "        #'reclevel': 'full',\n",
    "        #'include': 'articleText',\n",
    "        'key': API_KEY\n",
    "    }\n",
    "    while total == 0 and tries <= 10:\n",
    "        if query:\n",
    "            params['q'] = query\n",
    "        else:\n",
    "            random_word = random.choice(STOPWORDS)\n",
    "            params['q'] = f'\"{random_word}\"'\n",
    "        if newspaper_id:\n",
    "            params['l-title'] = newspaper_id\n",
    "        else:\n",
    "            params['l-title'] = get_random_facet_value(params, 'title')\n",
    "        if category:\n",
    "            params['l-category'] = category\n",
    "        else:\n",
    "            params['l-category'] = get_random_facet_value(params, 'category')\n",
    "        if illustrated:\n",
    "            params['l-illustrated'] = illustrated\n",
    "        else:\n",
    "            params['l-illustrated'] = get_random_facet_value(params, 'illustrated')\n",
    "        # Select a word length at random\n",
    "        params['l-word'] = get_random_facet_value(params, 'word')\n",
    "        # Get decades\n",
    "        decade = get_random_facet_value(params, 'decade')\n",
    "        # Get years\n",
    "        params['l-decade'] = decade\n",
    "        year = get_random_facet_value(params, 'year')\n",
    "        # Get months\n",
    "        params['l-year'] = year\n",
    "        month = get_random_facet_value(params, 'month')\n",
    "        # Get articles for month\n",
    "        params['l-month'] = month\n",
    "        params['n'] = 100\n",
    "        response = s.get(API_URL, params=params)\n",
    "        data = response.json()\n",
    "        total = int(data['response']['zone'][0]['records']['total'])\n",
    "        #print(total)\n",
    "        #print(response.url)\n",
    "        tries += 1\n",
    "    if total > 0:\n",
    "        article = random.choice(data['response']['zone'][0]['records']['article'])\n",
    "        return article"
   ]
  },
  {
   "cell_type": "markdown",
   "metadata": {},
   "source": [
    "## Get any old article..."
   ]
  },
  {
   "cell_type": "code",
   "execution_count": 4,
   "metadata": {},
   "outputs": [
    {
     "data": {
      "text/plain": [
       "{'id': '153742819',\n",
       " 'url': '/newspaper/153742819',\n",
       " 'heading': 'ALL ROLES IN LLOYD FILM FILLED.',\n",
       " 'category': 'Article',\n",
       " 'title': {'id': '742',\n",
       "  'value': 'Daily Telegraph (Launceston, Tas. : 1883 - 1928)'},\n",
       " 'date': '1926-11-13',\n",
       " 'page': 15,\n",
       " 'pageSequence': 15,\n",
       " 'relevance': {'score': '0.7499819', 'value': 'likely to be relevant'},\n",
       " 'snippet': 'All the principal roles in support of Harold Lloyd in the mountain story he is now filming, were filled when production manager John L. Murphy',\n",
       " 'troveUrl': 'https://trove.nla.gov.au/ndp/del/article/153742819?searchTerm=%22they%22'}"
      ]
     },
     "execution_count": 4,
     "metadata": {},
     "output_type": "execute_result"
    }
   ],
   "source": [
    "get_random_article()"
   ]
  },
  {
   "cell_type": "markdown",
   "metadata": {},
   "source": [
    "## Get a random article about pademelons"
   ]
  },
  {
   "cell_type": "code",
   "execution_count": 5,
   "metadata": {},
   "outputs": [
    {
     "data": {
      "text/plain": [
       "{'id': '221484875',\n",
       " 'url': '/newspaper/221484875',\n",
       " 'heading': 'SYDNEY SQUIBS. THE MEANING OF \"STANDING ORDERS\"--POLITICS, ANCIENT AND MODERN--A DOMESTIC PROBLEM--ALPINE PERILS.',\n",
       " 'category': 'Article',\n",
       " 'title': {'id': '1176', 'value': 'Lithgow Mercury (NSW : 1898 - 1954)'},\n",
       " 'date': '1903-09-04',\n",
       " 'page': 7,\n",
       " 'pageSequence': 7,\n",
       " 'relevance': {'score': '1.2293992', 'value': 'likely to be relevant'},\n",
       " 'snippet': 'I have had the honour of a chat with a member of the \"alleged\" collective wisdom of this State, and, amongst other things, I suggested it would be a happy thought to organise a',\n",
       " 'troveUrl': 'https://trove.nla.gov.au/ndp/del/article/221484875?searchTerm=pademelon'}"
      ]
     },
     "execution_count": 5,
     "metadata": {},
     "output_type": "execute_result"
    }
   ],
   "source": [
    "get_random_article(query='pademelon')"
   ]
  },
  {
   "cell_type": "markdown",
   "metadata": {},
   "source": [
    "## Get a random article from the _Sydney Morning Herald_"
   ]
  },
  {
   "cell_type": "code",
   "execution_count": 6,
   "metadata": {},
   "outputs": [
    {
     "data": {
      "text/plain": [
       "{'id': '28089944',\n",
       " 'url': '/newspaper/28089944',\n",
       " 'heading': 'DOMAIN BATHS. WOMEN TO UNDERGO TRAINING.',\n",
       " 'category': 'Article',\n",
       " 'title': {'id': '35',\n",
       "  'value': 'The Sydney Morning Herald (NSW : 1842 - 1954)'},\n",
       " 'date': '1921-01-06',\n",
       " 'page': 7,\n",
       " 'pageSequence': 7,\n",
       " 'relevance': {'score': '25.312206', 'value': 'very relevant'},\n",
       " 'snippet': 'Arrangements are in hand by the City Council to make the Domain baths available on certain evenings each week for continental bathing. This has been done at the request',\n",
       " 'troveUrl': 'https://trove.nla.gov.au/ndp/del/article/28089944?searchTerm=%22are%22'}"
      ]
     },
     "execution_count": 6,
     "metadata": {},
     "output_type": "execute_result"
    }
   ],
   "source": [
    "get_random_article(newspaper_id='35', category='Article')"
   ]
  },
  {
   "cell_type": "markdown",
   "metadata": {},
   "source": [
    "## Get a random illustrated article"
   ]
  },
  {
   "cell_type": "code",
   "execution_count": 7,
   "metadata": {},
   "outputs": [
    {
     "data": {
      "text/plain": [
       "{'id': '173097943',\n",
       " 'url': '/newspaper/173097943',\n",
       " 'heading': 'MACLEAY RIVER JOCKEY CLUB Influx of New Blood.',\n",
       " 'category': 'Detailed lists, results, guides',\n",
       " 'title': {'id': '881',\n",
       "  'value': 'The Macleay Chronicle (Kempsey, NSW : 1899 - 1952)'},\n",
       " 'date': '1932-12-07',\n",
       " 'page': 4,\n",
       " 'pageSequence': 4,\n",
       " 'relevance': {'score': '0.14988357', 'value': 'may have relevance'},\n",
       " 'troveUrl': 'https://trove.nla.gov.au/ndp/del/article/173097943?searchTerm=%22now%22'}"
      ]
     },
     "execution_count": 7,
     "metadata": {},
     "output_type": "execute_result"
    }
   ],
   "source": [
    "get_random_article(illustrated='true')"
   ]
  },
  {
   "cell_type": "markdown",
   "metadata": {},
   "source": [
    "## Get a random illustrated advertisement from the _Australian Womens Weekly_"
   ]
  },
  {
   "cell_type": "code",
   "execution_count": 8,
   "metadata": {},
   "outputs": [
    {
     "data": {
      "text/plain": [
       "{'id': '43598909',\n",
       " 'url': '/newspaper/43598909',\n",
       " 'heading': 'Advertising',\n",
       " 'category': 'Advertising',\n",
       " 'title': {'id': '112',\n",
       "  'value': \"The Australian Women's Weekly (1933 - 1982)\"},\n",
       " 'date': '1962-08-29',\n",
       " 'page': 82,\n",
       " 'pageSequence': 82,\n",
       " 'relevance': {'score': '0.59381086', 'value': 'likely to be relevant'},\n",
       " 'troveUrl': 'https://trove.nla.gov.au/ndp/del/article/43598909?searchTerm=%22above%22'}"
      ]
     },
     "execution_count": 8,
     "metadata": {},
     "output_type": "execute_result"
    }
   ],
   "source": [
    "get_random_article(newspaper_id='112', illustrated='true', category='Advertising')"
   ]
  },
  {
   "cell_type": "markdown",
   "metadata": {},
   "source": [
    "## Speed test"
   ]
  },
  {
   "cell_type": "code",
   "execution_count": 13,
   "metadata": {},
   "outputs": [
    {
     "name": "stdout",
     "output_type": "stream",
     "text": [
      "2.13 s ± 761 ms per loop (mean ± std. dev. of 7 runs, 1 loop each)\n"
     ]
    }
   ],
   "source": [
    "%%timeit\n",
    "get_random_article()"
   ]
  },
  {
   "cell_type": "code",
   "execution_count": null,
   "metadata": {},
   "outputs": [],
   "source": []
  }
 ],
 "metadata": {
  "kernelspec": {
   "display_name": "Python 3",
   "language": "python",
   "name": "python3"
  },
  "language_info": {
   "codemirror_mode": {
    "name": "ipython",
    "version": 3
   },
   "file_extension": ".py",
   "mimetype": "text/x-python",
   "name": "python",
   "nbconvert_exporter": "python",
   "pygments_lexer": "ipython3",
   "version": "3.7.3"
  }
 },
 "nbformat": 4,
 "nbformat_minor": 4
}
