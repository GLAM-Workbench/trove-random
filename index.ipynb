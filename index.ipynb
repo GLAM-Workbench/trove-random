{
 "cells": [
  {
   "cell_type": "markdown",
   "id": "0f43740c",
   "metadata": {},
   "source": [
    "# Random items from Trove\n",
    "\n",
    "Changes to the Trove API mean that the techniques I've previously used to select resources at random [will no longer work](https://updates.timsherratt.org/2019/10/09/creators-and-users.html). This repository includes some alternative ways of retrieving *random-ish* works and newspaper articles from Trove. While I've tried to mix things up and get as deep into the results set as possible, it's likely that some items are still inaccessible. So while the results will appear random, they may in fact be filtered due to the way facets are applied and delivered through the API. I hope that in the future Trove will provide a random sort option to avoid these problems.\n",
    "\n",
    "## Notebook topics\n",
    "\n",
    "* [Get an random newspaper article from Trove](random_newspaper_article.ipynb) – this method searches for a random stop word, letter, or digit, then filters the results by randomly applying facets until the result set is less that 100\n",
    "* [Get a random work from Trove by generating random `id`s](random_work_by_id.ipynb) – generates random work id prefixes and performs a wildcard search using the id index\n",
    "* [Get a random work from Trove using queries and facets](random_work_by_facets.ipynb) – gets all the available facets for a particular search, if the search has more than 100 results, it chooses one of the facets at random and applies it"
   ]
  },
  {
   "cell_type": "markdown",
   "id": "355b937c",
   "metadata": {},
   "source": [
    "## Cite as\n",
    "\n",
    "See the GLAM Workbench or [Zenodo](https://doi.org/10.5281/zenodo.3549403) for up-to-date citation details.\n",
    "\n",
    "----\n",
    "\n",
    "This repository is part of the [GLAM Workbench](https://glam-workbench.net/). "
   ]
  }
 ],
 "metadata": {
  "jupytext": {
   "cell_metadata_filter": "-all"
  },
  "kernelspec": {
   "display_name": "Python 3 (ipykernel)",
   "language": "python",
   "name": "python3"
  }
 },
 "nbformat": 4,
 "nbformat_minor": 5
}
