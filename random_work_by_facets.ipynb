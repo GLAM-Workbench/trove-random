{
 "cells": [
  {
   "cell_type": "markdown",
   "metadata": {},
   "source": [
    "# Get a random work from Trove using queries and facets\n",
    "\n",
    "Here's another way you can get a random work from Trove's `book`, `article`, `picture`, `map`, `music`, or `collection` zones. This approach is particularly useful if you want to get a random result from a search, or want to apply a variety of facets. It's not as quick as [pinging random work ids at Trove](notebooks/random_work_by_id.ipynb), but it's more flexible.\n",
    "\n",
    "Basically this method gets all the available facets for a particular search. If the search has more than 100 results, it chooses one of the facets at random and applies it. It keeps doing this until the search returns less that 100 results. Then it chooses a work at random from the results. If you don't supply a query, it uses a random stop word to mix things up a bit.\n",
    "\n",
    "The problem with this approach is that facets can't always be extracted from records, and there's no way of finding records without a particular facet. For example, you can use the `year` facet to limit results to a particular year, but what about records that don't have a `year` value. Once you start using that facet, they're invisible. I'm worried that this will mean that certain parts of Trove will never be surfaced. It would of course be much better if Trove just supported random sorting so I didn't have to do all these stupid workarounds.\n",
    "\n",
    "Collection searches (ie using NUC identifiers) are particularly tricky, because items from a single collection can share very similar facet values. To try and limit the results in this sort of situation, I've provided a couple of extra parameters:\n",
    "\n",
    "* `add_word` – adds a random stopword to the query\n",
    "* `add_number` – adds a random two digit number to the query (useful if the records use numeric identifiers)\n",
    "\n",
    "These can help increase the degree of randomness, but again I suspect some parts of collections will never be reached."
   ]
  },
  {
   "cell_type": "code",
   "execution_count": 135,
   "metadata": {},
   "outputs": [],
   "source": [
    "import requests\n",
    "import json\n",
    "import random\n",
    "from requests.adapters import HTTPAdapter\n",
    "from requests.packages.urllib3.util.retry import Retry\n",
    "from IPython.display import display, HTML\n",
    "\n",
    "s = requests.Session()\n",
    "retries = Retry(total=5, backoff_factor=1, status_forcelist=[ 502, 503, 504 ])\n",
    "s.mount('https://', HTTPAdapter(max_retries=retries))\n",
    "s.mount('http://', HTTPAdapter(max_retries=retries))\n",
    "\n",
    "with open('stopwords.json', 'r') as json_file:\n",
    "    STOPWORDS = json.load(json_file)"
   ]
  },
  {
   "cell_type": "code",
   "execution_count": 139,
   "metadata": {},
   "outputs": [],
   "source": [
    "API_KEY = 'YOUR API KEY'\n",
    "API_URL = 'http://api.trove.nla.gov.au/v2/result'"
   ]
  },
  {
   "cell_type": "code",
   "execution_count": 142,
   "metadata": {},
   "outputs": [],
   "source": [
    "def get_facet_terms(terms):\n",
    "    '''\n",
    "    Get all the terms in a facet.\n",
    "    '''\n",
    "    facet_terms = []\n",
    "    for term in terms:\n",
    "        facet_terms.append(term['search'])\n",
    "        if 'term' in term:\n",
    "            facet_terms += get_facet_terms(term['term'])\n",
    "    return facet_terms\n",
    "\n",
    "def get_facets(data):\n",
    "    '''\n",
    "    Get the names/terms of facets available from a search.\n",
    "    '''\n",
    "    facets = []\n",
    "    for facet in data['response']['zone'][0]['facets']['facet']:\n",
    "        if facet['name'][:3] != 'adv' and facet['name'] != 'decade':\n",
    "            terms = get_facet_terms(facet['term'])\n",
    "            facets.append({'facet': facet['name'], 'terms': terms})\n",
    "    return facets\n",
    "\n",
    "\n",
    "def set_query(params, query=None, add_word=False, add_number=False):\n",
    "    '''\n",
    "    Add a 'q' value to the parameters, including random words and numbers if required.\n",
    "    '''\n",
    "    random_word = random.choice(STOPWORDS)\n",
    "    random_number = random.randrange(1, 100)\n",
    "    if query:\n",
    "        if add_word:\n",
    "            params['q'] = f'{query} \"{random_word}\"'\n",
    "        elif add_number:\n",
    "            params['q'] = f'{query} \"{random_number:02}\"'\n",
    "        else:\n",
    "            params['q'] = query\n",
    "    else:\n",
    "        params['q'] = f'\"{random_word}\"'\n",
    "    return params\n",
    "\n",
    "\n",
    "def get_random_work_from_zone(zone, query, **kwargs):\n",
    "    total = 0\n",
    "    applied_facets = []\n",
    "    params = {\n",
    "        'zone': zone,\n",
    "        'encoding': 'json',\n",
    "        'n': '100',\n",
    "        'key': API_KEY,\n",
    "        'facet': 'all',\n",
    "        'include': 'links'\n",
    "    }\n",
    "    params['q'] = query\n",
    "    for key, value in kwargs.items():\n",
    "        params[f'l-{key}'] = value\n",
    "        applied_facets.append(key)\n",
    "    response = s.get(API_URL, params=params)\n",
    "    data = response.json()\n",
    "    total = int(data['response']['zone'][0]['records']['total']) \n",
    "    facets = get_facets(data)\n",
    "    facets[:] = [f for f in facets if f.get('facet') not in applied_facets]\n",
    "    # Keep going until we either have less than 100 results or we run out of facets\n",
    "    while total == 0 or total > 100 or len(facets) == 0:\n",
    "        # Select another facet\n",
    "        new_facet = random.choice(facets)\n",
    "        # Add it to the applied list\n",
    "        applied_facets.append(new_facet)\n",
    "        # Add the new facet as a parameter\n",
    "        params[f'l-{new_facet[\"facet\"]}'] = random.choice(new_facet['terms'])\n",
    "        # Get the new results\n",
    "        response = s.get(API_URL, params=params)\n",
    "        data = response.json()\n",
    "        # Get the facets available from the new search\n",
    "        facets = get_facets(data)\n",
    "        # Remove facets from the list that have already been applied\n",
    "        facets[:] = [f for f in facets if f.get('facet') not in applied_facets]\n",
    "        total = int(data['response']['zone'][0]['records']['total'])\n",
    "        # print(total)\n",
    "        # print(response.url)\n",
    "    return random.choice(data['response']['zone'][0]['records']['work'])\n",
    "\n",
    "\n",
    "def get_zones(data):\n",
    "    zones = []\n",
    "    for zone in data['response']['zone']:\n",
    "        if int(zone['records']['total']) > 0:\n",
    "            zones.append(zone['name'])\n",
    "    return zones\n",
    "\n",
    "\n",
    "def get_random_work(zone=None, query=None, add_word=False, add_number=False, **kwargs):\n",
    "    tries = 0\n",
    "    zones = []\n",
    "    params = {\n",
    "        'encoding': 'json',\n",
    "        'n': '0',\n",
    "        'key': API_KEY,\n",
    "    }\n",
    "    if zone:\n",
    "        params['zone'] = zone\n",
    "    else:\n",
    "        params['zone'] = 'book,article,picture,map,music,collection'\n",
    "    params = set_query(params, query, add_word)\n",
    "    for key, value in kwargs.items():\n",
    "        params[f'l-{key}'] = value\n",
    "    while len(zones) == 0 and tries <=10:\n",
    "        params = set_query(params, query, add_word, add_number)\n",
    "        response = s.get(API_URL, params=params)\n",
    "        #print(response.url)\n",
    "        data = response.json()\n",
    "        zones = get_zones(data)\n",
    "        tries += 1\n",
    "    if len(zones) > 0:\n",
    "        work = get_random_work_from_zone(zone=random.choice(zones), query=params['q'], **kwargs)\n",
    "        return work"
   ]
  },
  {
   "cell_type": "markdown",
   "metadata": {},
   "source": [
    "## Get a work from Chinese-Australian Historical Images in Australia (CHIA)\n",
    "\n",
    "This is a collection were facets aren't terribly useful in slicing up the results because the range of values is very limited. However, items in this collection do have numeric identifiers, and so including the `add_number` parameter seems to help divide it up into chunks of less than 100."
   ]
  },
  {
   "cell_type": "code",
   "execution_count": 143,
   "metadata": {},
   "outputs": [
    {
     "data": {
      "text/plain": [
       "{'id': '197897046',\n",
       " 'url': '/work/197897046',\n",
       " 'troveUrl': 'https://trove.nla.gov.au/work/197897046',\n",
       " 'title': 'Whay family cricket match',\n",
       " 'issued': 1930,\n",
       " 'type': ['Photograph'],\n",
       " 'holdingsCount': 1,\n",
       " 'versionCount': 1,\n",
       " 'relevance': {'score': '814.3908', 'value': 'very relevant'},\n",
       " 'identifier': [{'type': 'url',\n",
       "   'linktype': 'fulltext',\n",
       "   'value': 'http://www.chia.chinesemuseum.com.au/objects/D002813.htm'},\n",
       "  {'type': 'url',\n",
       "   'linktype': 'thumbnail',\n",
       "   'value': 'http://www.chia.chinesemuseum.com.au/objects/thumbs/tn_RA097.JPG'}]}"
      ]
     },
     "execution_count": 143,
     "metadata": {},
     "output_type": "execute_result"
    }
   ],
   "source": [
    "get_random_work(query='(nuc:\"VMUS:CHIA\")', add_number=True)"
   ]
  },
  {
   "cell_type": "markdown",
   "metadata": {},
   "source": [
    "## Get a photo with a thumbnail\n",
    "\n",
    "Using the new `imageInd` parameter in the query to find records with thumbnails."
   ]
  },
  {
   "cell_type": "code",
   "execution_count": 146,
   "metadata": {},
   "outputs": [
    {
     "data": {
      "text/plain": [
       "{'id': '231436550',\n",
       " 'url': '/work/231436550',\n",
       " 'troveUrl': 'https://trove.nla.gov.au/work/231436550',\n",
       " 'title': 'Carinhall Musikzimmer / Farben-Foto-Atelier M. Müller & Sohn, K.G., Zweigniederlessung Berlin SW68',\n",
       " 'contributor': ['M. Müller & Sohn'],\n",
       " 'issued': '1935-1942',\n",
       " 'type': ['Photograph'],\n",
       " 'holdingsCount': 0,\n",
       " 'versionCount': 1,\n",
       " 'relevance': {'score': '0.02249495', 'value': 'vaguely relevant'},\n",
       " 'identifier': [{'type': 'url',\n",
       "   'linktype': 'fulltext',\n",
       "   'linktext': 'digital file from original photo, front',\n",
       "   'value': 'http://hdl.loc.gov/loc.pnp/ds.12272'},\n",
       "  {'type': 'url',\n",
       "   'linktype': 'fulltext',\n",
       "   'linktext': 'digital file from original photo, back',\n",
       "   'value': 'http://hdl.loc.gov/loc.pnp/ds.12273'}]}"
      ]
     },
     "execution_count": 146,
     "metadata": {},
     "output_type": "execute_result"
    }
   ],
   "source": [
    "get_random_work(zone='picture', q='imageInd:thumbnail', format='Photograph')"
   ]
  },
  {
   "cell_type": "markdown",
   "metadata": {},
   "source": [
    "## Get a work tagged 'Japan'\n",
    "\n",
    "You can include as many additional facets as you want. Here's an example using `publictag`."
   ]
  },
  {
   "cell_type": "code",
   "execution_count": 148,
   "metadata": {},
   "outputs": [
    {
     "data": {
      "text/plain": [
       "{'id': '193448264',\n",
       " 'url': '/work/193448264',\n",
       " 'troveUrl': 'https://trove.nla.gov.au/work/193448264',\n",
       " 'title': 'The Mikasa once more afloat in Sasebo harbour',\n",
       " 'type': ['Photograph'],\n",
       " 'holdingsCount': 1,\n",
       " 'versionCount': 1,\n",
       " 'relevance': {'score': '0.0061441823', 'value': 'vaguely relevant'},\n",
       " 'snippet': ['Newspaper Clipping. <b>This</b> image is for personal use only. To publish or display it, contact the',\n",
       "  ' State Library of Western Australia. Reproduction of a sketch. <b>This</b> image is part of a collection of 69'],\n",
       " 'identifier': [{'type': 'url',\n",
       "   'linktype': 'unknown',\n",
       "   'linktext': 'view the album',\n",
       "   'value': 'http://purl.slwa.wa.gov.au/slwa_b3012552_79'},\n",
       "  {'type': 'url',\n",
       "   'linktype': 'unknown',\n",
       "   'linktext': 'The Mikasa once more afloat in Sasebo harbour',\n",
       "   'value': 'http://purl.slwa.wa.gov.au/slwa_b4184762_1'},\n",
       "  {'type': 'url',\n",
       "   'linktype': 'thumbnail',\n",
       "   'value': 'http://purl.slwa.wa.gov.au/slwa_b4184762_1.png'}]}"
      ]
     },
     "execution_count": 148,
     "metadata": {},
     "output_type": "execute_result"
    }
   ],
   "source": [
    "get_random_work(publictag='Japan')"
   ]
  },
  {
   "cell_type": "markdown",
   "metadata": {},
   "source": [
    "## Display a random thumbnail\n",
    "\n",
    "Just to cheer myself up a bit..."
   ]
  },
  {
   "cell_type": "code",
   "execution_count": 124,
   "metadata": {},
   "outputs": [
    {
     "data": {
      "text/html": [
       "<img src=\"https://images.ehive.com/accounts/6553/objects/images/rrm5p2_d3oe_m.jpg\">"
      ],
      "text/plain": [
       "<IPython.core.display.HTML object>"
      ]
     },
     "metadata": {},
     "output_type": "display_data"
    }
   ],
   "source": [
    "record = get_random_work(zone='picture', q='imageInd:thumbnail', format='Photograph')\n",
    "for link in record['identifier']:\n",
    "    if link['linktype'] == 'thumbnail':\n",
    "        url = link['value']\n",
    "        break\n",
    "display(HTML(f'<img src=\"{url}\">'))"
   ]
  },
  {
   "cell_type": "markdown",
   "metadata": {},
   "source": [
    "## Speed test"
   ]
  },
  {
   "cell_type": "code",
   "execution_count": 131,
   "metadata": {},
   "outputs": [
    {
     "name": "stdout",
     "output_type": "stream",
     "text": [
      "The slowest run took 7.29 times longer than the fastest. This could mean that an intermediate result is being cached.\n",
      "3.08 s ± 1.87 s per loop (mean ± std. dev. of 7 runs, 1 loop each)\n"
     ]
    }
   ],
   "source": [
    "%%timeit\n",
    "get_random_work()"
   ]
  },
  {
   "cell_type": "code",
   "execution_count": null,
   "metadata": {},
   "outputs": [],
   "source": []
  }
 ],
 "metadata": {
  "kernelspec": {
   "display_name": "Python 3",
   "language": "python",
   "name": "python3"
  },
  "language_info": {
   "codemirror_mode": {
    "name": "ipython",
    "version": 3
   },
   "file_extension": ".py",
   "mimetype": "text/x-python",
   "name": "python",
   "nbconvert_exporter": "python",
   "pygments_lexer": "ipython3",
   "version": "3.7.3"
  }
 },
 "nbformat": 4,
 "nbformat_minor": 4
}
